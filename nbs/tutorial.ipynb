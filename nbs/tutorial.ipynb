{
 "cells": [
  {
   "cell_type": "code",
   "execution_count": null,
   "metadata": {},
   "outputs": [],
   "source": [
    "#|hide\n",
    "#| eval: false\n",
    "! [ -e /content ] && pip install -Uqq fastai  # upgrade fastai on colab"
   ]
  },
  {
   "cell_type": "markdown",
   "metadata": {},
   "source": [
    "# Tutorials\n",
    "\n",
    "> To help you get started"
   ]
  },
  {
   "cell_type": "markdown",
   "metadata": {},
   "source": [
    "The most important thing to remember is that each page of this documentation comes from a notebook. You can find them in the \"nbs\" folder in the [main repo](https://github.com/fastai/fastai/tree/master/nbs). For tutorials, you can play around with the code and tweak it to do your own experiments. For the pages documenting the library, you will be able to see the source code and interact with all the tests."
   ]
  },
  {
   "cell_type": "markdown",
   "metadata": {},
   "source": [
    "If you are just starting with the library, checkout the beginners tutorials. They cover how to treat each application using the high-level API:\n",
    "\n",
    "- [vision](23_tutorial.vision.ipynb)\n",
    "- [text](38_tutorial.text.ipynb)\n",
    "- [tabular](44_tutorial.tabular.ipynb)\n",
    "- [collaborative filtering](46_tutorial.collab.ipynb)\n",
    "\n",
    "Once you are comfortable enough and want to start digging in the mid-level API, have a look at the intermediate tutorials:\n",
    "\n",
    "- [the data block API](50_tutorial.datablock.ipynb)\n",
    "- [a base training on Imagenette](22_tutorial.imagenette.ipynb)\n",
    "- [the mid-level data API in vision](10_tutorial.pets.ipynb)\n",
    "- [the mid-level data API in text](35_tutorial.wikitext.ipynb)\n",
    "\n",
    "And for even more experienced users that want to customize the library to their needs, check the advanced tutorials:\n",
    "\n",
    "- [Siamese model data collection and training](24_tutorial.siamese.ipynb)"
   ]
  },
  {
   "cell_type": "code",
   "execution_count": null,
   "metadata": {},
   "outputs": [],
   "source": []
  }
 ],
 "metadata": {
  "jupytext": {
   "split_at_heading": true
  },
  "kernelspec": {
   "display_name": "python3",
   "language": "python",
   "name": "python3"
  }
 },
 "nbformat": 4,
 "nbformat_minor": 2
}
